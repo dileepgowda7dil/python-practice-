{
 "cells": [
  {
   "cell_type": "code",
   "execution_count": 9,
   "id": "23935965",
   "metadata": {},
   "outputs": [
    {
     "data": {
      "text/plain": [
       "[45, 55]"
      ]
     },
     "execution_count": 9,
     "metadata": {},
     "output_type": "execute_result"
    }
   ],
   "source": [
    "x=[10,20,30,40,50]\n",
    "[k+5 for k in x if k>30]"
   ]
  },
  {
   "cell_type": "code",
   "execution_count": 13,
   "id": "bef4a09d",
   "metadata": {},
   "outputs": [
    {
     "data": {
      "text/plain": [
       "{'Dr Arun', 'Dr Ashok'}"
      ]
     },
     "execution_count": 13,
     "metadata": {},
     "output_type": "execute_result"
    }
   ],
   "source": [
    "x=[10,20,30,'Dr Ashok','raja','Dr Arun']\n",
    "\n",
    "{k for k in x if type(k)==str if 'Dr' in k}"
   ]
  },
  {
   "cell_type": "code",
   "execution_count": 19,
   "id": "c45ab453",
   "metadata": {},
   "outputs": [
    {
     "data": {
      "text/plain": [
       "['s', 'h', 'i', 'v', 'a', 'r', 'a', 'j', 'a']"
      ]
     },
     "execution_count": 19,
     "metadata": {},
     "output_type": "execute_result"
    }
   ],
   "source": [
    "x=['shiva','raja']\n",
    "\n",
    "[j for k in x for j in k]"
   ]
  },
  {
   "cell_type": "code",
   "execution_count": 2,
   "id": "7212d6b3",
   "metadata": {},
   "outputs": [
    {
     "name": "stdout",
     "output_type": "stream",
     "text": [
      "[1, 2, 3]\n"
     ]
    }
   ],
   "source": [
    "list = [characters for characters in [1,2,3]]\n",
    "print(list)"
   ]
  },
  {
   "cell_type": "code",
   "execution_count": 3,
   "id": "5c901ecd",
   "metadata": {},
   "outputs": [
    {
     "name": "stdout",
     "output_type": "stream",
     "text": [
      "[0, 2, 4, 6, 8, 10]\n"
     ]
    }
   ],
   "source": [
    "list =  [i for i in range(11) if i%2 == 0]\n",
    "print(list)"
   ]
  },
  {
   "cell_type": "code",
   "execution_count": 8,
   "id": "da0aabeb",
   "metadata": {},
   "outputs": [
    {
     "name": "stdout",
     "output_type": "stream",
     "text": [
      "[[0, 1, 2], [0, 1, 2], [0, 1, 2]]\n"
     ]
    }
   ],
   "source": [
    "matrix = [[j for j in range(3)] for i in range(3)]\n",
    "print(matrix)"
   ]
  },
  {
   "cell_type": "code",
   "execution_count": 11,
   "id": "4ac428f1",
   "metadata": {},
   "outputs": [
    {
     "name": "stdout",
     "output_type": "stream",
     "text": [
      "['g', 'e', 'e', 'k', 's', ' ', '4', ' ', 'g', 'e', 'e', 'k', 's']\n"
     ]
    }
   ],
   "source": [
    "list = []\n",
    "for character in 'geeks 4 geeks':\n",
    "    list.append(character)\n",
    "print(list)"
   ]
  },
  {
   "cell_type": "code",
   "execution_count": 12,
   "id": "1d4c809e",
   "metadata": {},
   "outputs": [
    {
     "name": "stdout",
     "output_type": "stream",
     "text": [
      "['g', 'e', 'e', 'k', 's', ' ', '4', ' ', 'g', 'e', 'e', 'k', 's']\n"
     ]
    }
   ],
   "source": [
    "list = [character for character in 'geeks 4 geeks']\n",
    "print(list)"
   ]
  },
  {
   "cell_type": "code",
   "execution_count": 16,
   "id": "319c772b",
   "metadata": {},
   "outputs": [
    {
     "name": "stdout",
     "output_type": "stream",
     "text": [
      "time taken for_loop: 6.1\n",
      "time taken list_comprehension: 5.35\n"
     ]
    }
   ],
   "source": [
    "import time\n",
    "def for_loop(n):\n",
    "    result = []\n",
    "    for i in range(n):\n",
    "        result.append(i**2)\n",
    "    return result\n",
    "\n",
    "def list_comprehension(n):\n",
    "    return[i**2 for i in range(n)]\n",
    "\n",
    "begin = time.time()\n",
    "for_loop(15**6)\n",
    "end = time.time()\n",
    "\n",
    "print('time taken for_loop:', round(end-begin, 2))\n",
    "\n",
    "begin = time.time()\n",
    "list_comprehension(15**6)\n",
    "end = time.time()\n",
    "\n",
    "print('time taken list_comprehension:', round(end-begin, 2))\n"
   ]
  },
  {
   "cell_type": "code",
   "execution_count": 22,
   "id": "e6b62bf9",
   "metadata": {},
   "outputs": [
    {
     "name": "stdout",
     "output_type": "stream",
     "text": [
      "[[0, 1, 2, 3, 4], [0, 1, 2, 3, 4], [0, 1, 2, 3, 4]]\n"
     ]
    }
   ],
   "source": [
    "matrix = []\n",
    "for i in range(3):\n",
    "    matrix.append([])\n",
    "    for j in range(5):\n",
    "        matrix[i].append(j)\n",
    "print(matrix)"
   ]
  },
  {
   "cell_type": "code",
   "execution_count": 28,
   "id": "bdff290e",
   "metadata": {},
   "outputs": [
    {
     "name": "stdout",
     "output_type": "stream",
     "text": [
      "[[0, 1, 2, 3, 4], [0, 1, 2, 3, 4], [0, 1, 2, 3, 4]]\n"
     ]
    }
   ],
   "source": [
    "matrix = [[j for j in range(5)] for i in range(3)]\n",
    "print(matrix)"
   ]
  },
  {
   "cell_type": "code",
   "execution_count": 32,
   "id": "2f232d94",
   "metadata": {},
   "outputs": [
    {
     "name": "stdout",
     "output_type": "stream",
     "text": [
      "[10, 20, 30, 40, 50]\n"
     ]
    }
   ],
   "source": [
    "numbers = []\n",
    "for i in range(1,6):\n",
    "    numbers.append(i*10)\n",
    "print(numbers)"
   ]
  },
  {
   "cell_type": "code",
   "execution_count": 33,
   "id": "e728a543",
   "metadata": {},
   "outputs": [
    {
     "name": "stdout",
     "output_type": "stream",
     "text": [
      "[10, 20, 30, 40, 50]\n"
     ]
    }
   ],
   "source": [
    "numbers = [i*10 for i in range(1,6)]\n",
    "print(numbers)"
   ]
  },
  {
   "cell_type": "code",
   "execution_count": 50,
   "id": "040368bc",
   "metadata": {},
   "outputs": [
    {
     "name": "stdout",
     "output_type": "stream",
     "text": [
      "['odd no', 'even  no', 'odd no', 'even  no', 'odd no', 'even  no', 'odd no', 'even  no', 'odd no', 'even  no']\n"
     ]
    }
   ],
   "source": [
    "lis = ['even  no' if i%2==0 else 'odd no' for i in range(1,11)]\n",
    "print(lis)"
   ]
  },
  {
   "cell_type": "code",
   "execution_count": 55,
   "id": "1f455cb3",
   "metadata": {},
   "outputs": [
    {
     "name": "stdout",
     "output_type": "stream",
     "text": [
      "[10, 20, 30, 40, 50, 60, 70, 80, 90]\n"
     ]
    }
   ],
   "source": [
    "lis = [i for i in range(1,100) if i%5==0 if i%10==0]\n",
    "print(lis)"
   ]
  },
  {
   "cell_type": "code",
   "execution_count": 56,
   "id": "6f4feb07",
   "metadata": {},
   "outputs": [
    {
     "name": "stdout",
     "output_type": "stream",
     "text": [
      "[1, 4, 9, 16, 25, 36, 49, 64, 81, 100]\n"
     ]
    }
   ],
   "source": [
    "squares = [n**2 for n in range(1,11)]\n",
    "print(squares)"
   ]
  },
  {
   "cell_type": "code",
   "execution_count": 68,
   "id": "78e19af5",
   "metadata": {},
   "outputs": [
    {
     "name": "stdout",
     "output_type": "stream",
     "text": [
      "[[10, 40, 60], [20, 50, 70], [30, 60, 80]]\n"
     ]
    }
   ],
   "source": [
    "twoDmatrix = [[10,20,30],\n",
    "             [40,50,60],\n",
    "              [60,70,80]]\n",
    "trans = [[i[j] for i in twoDmatrix] for j in range(len(twoDmatrix[0]))]\n",
    "print(trans)"
   ]
  },
  {
   "cell_type": "code",
   "execution_count": 85,
   "id": "766aaf4f",
   "metadata": {},
   "outputs": [
    {
     "name": "stdout",
     "output_type": "stream",
     "text": [
      "['skeeg ,4 ,skeeg']\n"
     ]
    }
   ],
   "source": [
    "List = [i[::-1] for i in ['geeks, 4, geeks']]\n",
    "print(List)"
   ]
  },
  {
   "cell_type": "code",
   "execution_count": 82,
   "id": "b6c29996",
   "metadata": {},
   "outputs": [
    {
     "name": "stdout",
     "output_type": "stream",
     "text": [
      "[16, 10, 13, 18, 7]\n"
     ]
    }
   ],
   "source": [
    "def digitSum(n):\n",
    "    dsum = 0\n",
    "    for j in str(n):\n",
    "        dsum += int(j)\n",
    "    return dsum\n",
    "List = [367,524,542,451,751,458,657,421]    \n",
    "newList = [digitSum(i) for i in List if i & 1]\n",
    "print(newList)"
   ]
  },
  {
   "cell_type": "code",
   "execution_count": 5,
   "id": "d0acd7e9",
   "metadata": {},
   "outputs": [
    {
     "data": {
      "text/plain": [
       "['HOW']"
      ]
     },
     "execution_count": 5,
     "metadata": {},
     "output_type": "execute_result"
    }
   ],
   "source": [
    "j=['hi','hello','how']\n",
    "[k.upper() for k in j if 'o' in k if 'w' in k]"
   ]
  },
  {
   "cell_type": "code",
   "execution_count": 9,
   "id": "76bd9cc7",
   "metadata": {},
   "outputs": [
    {
     "name": "stdout",
     "output_type": "stream",
     "text": [
      "[35, 45, 55, 'not applicable', 35, 'not applicable']\n"
     ]
    }
   ],
   "source": [
    "g=[30,40,50,None,30,None]\n",
    "i= [k+5 if type(k) == int else 'not applicable' for k in g ]\n",
    "print(i)"
   ]
  },
  {
   "cell_type": "code",
   "execution_count": 11,
   "id": "818e9aec",
   "metadata": {},
   "outputs": [
    {
     "data": {
      "text/plain": [
       "{'name': 'raja', 'desig': 'manager', 'salary': 12000}"
      ]
     },
     "execution_count": 11,
     "metadata": {},
     "output_type": "execute_result"
    }
   ],
   "source": [
    "x=['name','desig','salary']\n",
    "y=['raja','manager',12000]\n",
    "dict(zip(x,y))"
   ]
  },
  {
   "cell_type": "code",
   "execution_count": 25,
   "id": "fbb231bb",
   "metadata": {},
   "outputs": [
    {
     "ename": "SyntaxError",
     "evalue": "invalid syntax (1560523899.py, line 7)",
     "output_type": "error",
     "traceback": [
      "\u001b[1;36m  File \u001b[1;32m\"C:\\Users\\acer\\AppData\\Local\\Temp\\ipykernel_1032\\1560523899.py\"\u001b[1;36m, line \u001b[1;32m7\u001b[0m\n\u001b[1;33m    {key:val*fprice[key] if key in fprice val*sprice[key] if key in sprice else val*vprice[key] for key,val in order.items() if key in fprice or key in vprice or key in sprice}\u001b[0m\n\u001b[1;37m                                          ^\u001b[0m\n\u001b[1;31mSyntaxError\u001b[0m\u001b[1;31m:\u001b[0m invalid syntax\n"
     ]
    }
   ],
   "source": [
    "fprice = {\"apple\": 100, \"grape\": 50, \"orange\": 75,'chikku':80,'pears':65,'papaya':30}\n",
    "vprice = {\"tomato\": 15, \"brinjal\": 30, \"onion\": 40}\n",
    "sprice = {'lays':5, 'parle g':10, 'gooday':15}\n",
    "\n",
    "order = {\"apple\": 4, \"grape\": 7, \"orange\": 4, 'onion':5, 'gooday':15}\n",
    "\n",
    "{key:val*fprice[key] if key in fprice val*sprice[key] if key in sprice else val*vprice[key] for key,val in order.items() if key in fprice or key in vprice or key in sprice} "
   ]
  },
  {
   "cell_type": "code",
   "execution_count": null,
   "id": "bb34fac7",
   "metadata": {},
   "outputs": [],
   "source": []
  }
 ],
 "metadata": {
  "kernelspec": {
   "display_name": "Python 3 (ipykernel)",
   "language": "python",
   "name": "python3"
  },
  "language_info": {
   "codemirror_mode": {
    "name": "ipython",
    "version": 3
   },
   "file_extension": ".py",
   "mimetype": "text/x-python",
   "name": "python",
   "nbconvert_exporter": "python",
   "pygments_lexer": "ipython3",
   "version": "3.9.13"
  }
 },
 "nbformat": 4,
 "nbformat_minor": 5
}
