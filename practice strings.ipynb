{
 "cells": [
  {
   "cell_type": "code",
   "execution_count": 2,
   "id": "c67a1ae8",
   "metadata": {},
   "outputs": [
    {
     "name": "stdout",
     "output_type": "stream",
     "text": [
      "18\n"
     ]
    }
   ],
   "source": [
    "course = ' python programming'\n",
    "print(len(course))"
   ]
  },
  {
   "cell_type": "code",
   "execution_count": 3,
   "id": "53bb70e7",
   "metadata": {},
   "outputs": [
    {
     "name": "stdout",
     "output_type": "stream",
     "text": [
      "p\n"
     ]
    }
   ],
   "source": [
    "print(course[0])"
   ]
  },
  {
   "cell_type": "code",
   "execution_count": 4,
   "id": "b35d10c0",
   "metadata": {},
   "outputs": [
    {
     "name": "stdout",
     "output_type": "stream",
     "text": [
      "g\n"
     ]
    }
   ],
   "source": [
    "print(course[-1])"
   ]
  },
  {
   "cell_type": "code",
   "execution_count": 5,
   "id": "ddbc4667",
   "metadata": {},
   "outputs": [
    {
     "name": "stdout",
     "output_type": "stream",
     "text": [
      "yt\n"
     ]
    }
   ],
   "source": [
    "print(course[1:3])"
   ]
  },
  {
   "cell_type": "code",
   "execution_count": 6,
   "id": "dbc58666",
   "metadata": {},
   "outputs": [
    {
     "name": "stdout",
     "output_type": "stream",
     "text": [
      "python programming\n"
     ]
    }
   ],
   "source": [
    "print(course[:])"
   ]
  },
  {
   "cell_type": "code",
   "execution_count": 7,
   "id": "3a4d4838",
   "metadata": {},
   "outputs": [
    {
     "name": "stdout",
     "output_type": "stream",
     "text": [
      "ython programming\n"
     ]
    }
   ],
   "source": [
    "print(course[1:])"
   ]
  },
  {
   "cell_type": "code",
   "execution_count": 8,
   "id": "f17f6907",
   "metadata": {},
   "outputs": [
    {
     "name": "stdout",
     "output_type": "stream",
     "text": [
      "python programm\n"
     ]
    }
   ],
   "source": [
    "print(course[:15])"
   ]
  },
  {
   "cell_type": "code",
   "execution_count": 9,
   "id": "8b6d2ace",
   "metadata": {},
   "outputs": [
    {
     "name": "stdout",
     "output_type": "stream",
     "text": [
      "python \"programming\n"
     ]
    }
   ],
   "source": [
    "print('python \\\"programming')"
   ]
  },
  {
   "cell_type": "code",
   "execution_count": 10,
   "id": "986fa20b",
   "metadata": {},
   "outputs": [
    {
     "name": "stdout",
     "output_type": "stream",
     "text": [
      "python \n",
      "programming\n"
     ]
    }
   ],
   "source": [
    "print('python \\nprogramming')"
   ]
  },
  {
   "cell_type": "code",
   "execution_count": 11,
   "id": "e7564485",
   "metadata": {},
   "outputs": [
    {
     "name": "stdout",
     "output_type": "stream",
     "text": [
      "firstname\n"
     ]
    }
   ],
   "source": [
    "x = 'first'\n",
    "y = 'name'\n",
    "print(x+y)"
   ]
  },
  {
   "cell_type": "code",
   "execution_count": 12,
   "id": "190d72e9",
   "metadata": {},
   "outputs": [
    {
     "name": "stdout",
     "output_type": "stream",
     "text": [
      "first name\n"
     ]
    }
   ],
   "source": [
    "print(x + ' ' + y)"
   ]
  },
  {
   "cell_type": "code",
   "execution_count": 14,
   "id": "304f27e1",
   "metadata": {},
   "outputs": [
    {
     "name": "stdout",
     "output_type": "stream",
     "text": [
      "first name\n"
     ]
    }
   ],
   "source": [
    "z = f'{x} {y}'\n",
    "print(z)"
   ]
  },
  {
   "cell_type": "code",
   "execution_count": 20,
   "id": "9f84358e",
   "metadata": {},
   "outputs": [
    {
     "name": "stdout",
     "output_type": "stream",
     "text": [
      "5 4\n"
     ]
    }
   ],
   "source": [
    "a = f'{len(x)} {2 + 2}'\n",
    "print(a)"
   ]
  },
  {
   "cell_type": "code",
   "execution_count": 21,
   "id": "be1a3a28",
   "metadata": {},
   "outputs": [
    {
     "name": "stdout",
     "output_type": "stream",
     "text": [
      "PYTHON PROGRAMMING\n"
     ]
    }
   ],
   "source": [
    "print(course.upper())"
   ]
  },
  {
   "cell_type": "code",
   "execution_count": 22,
   "id": "d09b152a",
   "metadata": {},
   "outputs": [
    {
     "name": "stdout",
     "output_type": "stream",
     "text": [
      "Python Programming\n"
     ]
    }
   ],
   "source": [
    "print(course.title())"
   ]
  },
  {
   "cell_type": "code",
   "execution_count": 23,
   "id": "288f279a",
   "metadata": {},
   "outputs": [
    {
     "name": "stdout",
     "output_type": "stream",
     "text": [
      "python programming\n"
     ]
    }
   ],
   "source": [
    "print(course.lower())"
   ]
  },
  {
   "cell_type": "code",
   "execution_count": 24,
   "id": "194795d8",
   "metadata": {},
   "outputs": [
    {
     "name": "stdout",
     "output_type": "stream",
     "text": [
      "python programming\n"
     ]
    }
   ],
   "source": [
    "print(course.strip())"
   ]
  },
  {
   "cell_type": "code",
   "execution_count": 25,
   "id": "5f30068e",
   "metadata": {},
   "outputs": [
    {
     "name": "stdout",
     "output_type": "stream",
     "text": [
      "python programming\n"
     ]
    }
   ],
   "source": [
    "print(course.lstrip())"
   ]
  },
  {
   "cell_type": "code",
   "execution_count": 27,
   "id": "7387b5d2",
   "metadata": {},
   "outputs": [
    {
     "name": "stdout",
     "output_type": "stream",
     "text": [
      "7\n"
     ]
    }
   ],
   "source": [
    "print(course.find('pro'))"
   ]
  },
  {
   "cell_type": "code",
   "execution_count": 28,
   "id": "65e51312",
   "metadata": {},
   "outputs": [
    {
     "name": "stdout",
     "output_type": "stream",
     "text": [
      "jython jrogramming\n"
     ]
    }
   ],
   "source": [
    "print(course.replace('p', 'j'))"
   ]
  },
  {
   "cell_type": "code",
   "execution_count": 29,
   "id": "03871195",
   "metadata": {},
   "outputs": [
    {
     "name": "stdout",
     "output_type": "stream",
     "text": [
      "True\n"
     ]
    }
   ],
   "source": [
    "print('pro' in course)"
   ]
  },
  {
   "cell_type": "code",
   "execution_count": 30,
   "id": "8206da7f",
   "metadata": {},
   "outputs": [
    {
     "name": "stdout",
     "output_type": "stream",
     "text": [
      "False\n"
     ]
    }
   ],
   "source": [
    "print('g' not in course)"
   ]
  }
 ],
 "metadata": {
  "kernelspec": {
   "display_name": "Python 3 (ipykernel)",
   "language": "python",
   "name": "python3"
  },
  "language_info": {
   "codemirror_mode": {
    "name": "ipython",
    "version": 3
   },
   "file_extension": ".py",
   "mimetype": "text/x-python",
   "name": "python",
   "nbconvert_exporter": "python",
   "pygments_lexer": "ipython3",
   "version": "3.9.13"
  }
 },
 "nbformat": 4,
 "nbformat_minor": 5
}
