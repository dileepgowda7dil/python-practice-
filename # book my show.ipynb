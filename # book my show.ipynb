{
 "cells": [
  {
   "cell_type": "code",
   "execution_count": 1,
   "id": "0a36985f",
   "metadata": {},
   "outputs": [
    {
     "name": "stdout",
     "output_type": "stream",
     "text": [
      "how many seats you need to book 2\n",
      "enter the seat num 12\n",
      "booked seat is 12 enter 0 to exit\n",
      "you have booked seats [12]\n",
      "available seats are  [1, 2, 3, 4, 5, 6, 7, 8, 9, 10, 11, 13, 14, 15, 16, 17, 18, 19, 20, 21, 22, 23, 24, 25, 26, 27, 28, 29, 30, 31, 32, 33, 34, 35, 36, 37, 38, 39, 40, 41, 42, 43, 44, 45, 46, 47, 48, 49, 50, 51, 52, 53, 54, 55, 56, 57, 58, 59, 60, 61, 62, 63, 64, 65, 66, 67, 68, 69, 70, 71, 72, 73, 74, 75, 76, 77, 78, 79, 80, 81, 82, 83, 84, 85, 86, 87, 88, 89, 90, 91, 92, 93, 94, 95, 96, 97, 98, 99, 100]\n",
      "enter the seat num 12\n",
      "you have booked seats [12]\n"
     ]
    }
   ],
   "source": [
    "# book my show\n",
    "totalSeats = [1, 2, 3, 4, 5, 6, 7, 8, 9, 10, 11, 12, 13, 14, 15, 16, 17, 18, 19, 20]\n",
    "x = int(input('how many seats you need to book '))\n",
    "bookedSeats = []\n",
    "availableSeats = []\n",
    "i = 1\n",
    "while True:\n",
    "    for i in range(x):\n",
    "        y = int(input('enter the seat num '))\n",
    "        if y in totalSeats:\n",
    "            print('booked seat is', y, 'enter 0 to exit')\n",
    "            bookedSeats.append(y)\n",
    "            totalSeats.remove(y)\n",
    "        elif y == 0:\n",
    "            break\n",
    "        print('you have booked seats', bookedSeats)\n",
    "        if i != (x-1):\n",
    "            print('available seats are ', totalSeats)\n",
    "    else:\n",
    "        break"
   ]
  },
  {
   "cell_type": "code",
   "execution_count": null,
   "id": "4027ee84",
   "metadata": {},
   "outputs": [],
   "source": []
  }
 ],
 "metadata": {
  "kernelspec": {
   "display_name": "Python 3 (ipykernel)",
   "language": "python",
   "name": "python3"
  },
  "language_info": {
   "codemirror_mode": {
    "name": "ipython",
    "version": 3
   },
   "file_extension": ".py",
   "mimetype": "text/x-python",
   "name": "python",
   "nbconvert_exporter": "python",
   "pygments_lexer": "ipython3",
   "version": "3.9.13"
  }
 },
 "nbformat": 4,
 "nbformat_minor": 5
}
