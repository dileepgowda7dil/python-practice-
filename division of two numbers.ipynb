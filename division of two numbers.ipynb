{
 "cells": [
  {
   "cell_type": "code",
   "execution_count": 2,
   "id": "cae68dee",
   "metadata": {},
   "outputs": [
    {
     "name": "stdout",
     "output_type": "stream",
     "text": [
      "Enter the numerator 40\n",
      "Enter the denominator 8\n",
      "quotient is 5\n",
      "reminder is 0\n"
     ]
    }
   ],
   "source": [
    "x = int(input('Enter the numerator '))\n",
    "y = int(input('Enter the denominator '))\n",
    "a = 1\n",
    "b = x\n",
    "while a < x:\n",
    "    z = b - y\n",
    "    b = z\n",
    "    if b < y:\n",
    "        break\n",
    "    a += 1\n",
    "print(f'quotient is {a}')\n",
    "print(f'reminder is {b}')"
   ]
  },
  {
   "cell_type": "code",
   "execution_count": null,
   "id": "48a0b1e6",
   "metadata": {},
   "outputs": [],
   "source": []
  }
 ],
 "metadata": {
  "kernelspec": {
   "display_name": "Python 3 (ipykernel)",
   "language": "python",
   "name": "python3"
  },
  "language_info": {
   "codemirror_mode": {
    "name": "ipython",
    "version": 3
   },
   "file_extension": ".py",
   "mimetype": "text/x-python",
   "name": "python",
   "nbconvert_exporter": "python",
   "pygments_lexer": "ipython3",
   "version": "3.9.13"
  }
 },
 "nbformat": 4,
 "nbformat_minor": 5
}
