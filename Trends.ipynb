{
 "cells": [
  {
   "cell_type": "code",
   "execution_count": 2,
   "id": "2333dd6b",
   "metadata": {},
   "outputs": [
    {
     "name": "stdout",
     "output_type": "stream",
     "text": [
      "Welcome to TRENDS\n",
      "MENU\n",
      "To Purchase Items select 1 \n",
      "To Exit select 2 \n",
      "choose from the menu 1\n",
      "Items available  ['tomato', 'cucumber', 'brinjal', 'beans', 'carrot', 'potato', 'beetroot', 'banana', 'mango', 'apple', 'orange', 'grapes'] {}\n",
      "Enter the item you need, exit if you chose all the items u needed carrot\n",
      "Items you picked are  ['carrot']\n",
      "Enter the item you need, exit if you chose all the items u needed b\n",
      "Enter a valid input\n",
      "Enter the item you need, exit if you chose all the items u needed exit\n",
      "Items you picked are  ['carrot']\n",
      "Enter 3 if you want remove 3\n",
      "Enter the item you need to remove , exit if you chose all the items u need are picked carrot\n",
      "Your cart contains:  [] \n",
      "\n",
      "Move to the billing counter\n"
     ]
    }
   ],
   "source": [
    "#dileepkumar\n",
    "# Trends\n",
    "print('Welcome to TRENDS')\n",
    "vegetables = ['tomato', 'cucumber', 'brinjal', 'beans', 'carrot', 'potato', 'beetroot','banana', 'mango', 'apple', 'orange', 'grapes']\n",
    "your_cart = []\n",
    "    \n",
    "\n",
    "print('MENU')\n",
    "print('To Purchase Items select 1 \\nTo Exit select 2 ')\n",
    "x = int(input('choose from the menu '))\n",
    "if x == 2:\n",
    "    print('MENU')\n",
    "    print('To Purchase Items select 1 \\nTo Exit select 2 ')\n",
    "elif x == 1:\n",
    "    print(f'Items available ', vegetables, {})\n",
    "    while True:\n",
    "        a = str(input('Enter the item you need, exit if you chose all the items u needed '))\n",
    "        if a in vegetables:\n",
    "            your_cart.append(a)\n",
    "            print('Items you picked are ', your_cart)\n",
    "        elif len(your_cart) == 0:\n",
    "            print('MENU')\n",
    "            print('To Purchase Items select 1 \\nTo Exit select 2 ')\n",
    "        elif a == ('exit' or 'Exit'):\n",
    "            print('Items you picked are ', your_cart)\n",
    "            break\n",
    "        elif a not in your_cart:\n",
    "            print('Enter a valid input')\n",
    "            \n",
    "    y = int(input('Enter 3 if you want remove '))\n",
    "    if y == 3:\n",
    "        c = 0\n",
    "        while c < len(your_cart):\n",
    "            b = str(input('Enter the item you need to remove , exit if you chose all the items u need are picked '))\n",
    "            if b in your_cart:\n",
    "                your_cart.remove(b)\n",
    "                c += 1\n",
    "            elif len(your_cart) == 0:\n",
    "            print('MENU')\n",
    "            print('To Purchase Items select 1 \\nTo Exit select 2 ')\n",
    "            elif b == ('exit' or 'Exit'):\n",
    "                print()\n",
    "                break\n",
    "            elif b not in your_cart:\n",
    "                print('Enter a valid input')\n",
    "    else:\n",
    "        pass\n",
    "\n",
    "print('Your cart contains: ', your_cart, '\\n')\n",
    "print('Move to the billing counter')\n"
   ]
  },
  {
   "cell_type": "code",
   "execution_count": null,
   "id": "f0119dd9",
   "metadata": {},
   "outputs": [],
   "source": []
  }
 ],
 "metadata": {
  "kernelspec": {
   "display_name": "Python 3 (ipykernel)",
   "language": "python",
   "name": "python3"
  },
  "language_info": {
   "codemirror_mode": {
    "name": "ipython",
    "version": 3
   },
   "file_extension": ".py",
   "mimetype": "text/x-python",
   "name": "python",
   "nbconvert_exporter": "python",
   "pygments_lexer": "ipython3",
   "version": "3.9.13"
  }
 },
 "nbformat": 4,
 "nbformat_minor": 5
}
