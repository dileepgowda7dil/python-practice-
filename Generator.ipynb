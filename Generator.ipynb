{
 "cells": [
  {
   "cell_type": "code",
   "execution_count": 12,
   "id": "11fcbb50",
   "metadata": {},
   "outputs": [],
   "source": [
    "def three():\n",
    "    y = [1,2,3,4,5,6,7,8,9,10]\n",
    "    \n",
    "    for k in y:\n",
    "        yield (y[:3])\n",
    "        yield (y[3:6])\n",
    "        yield (y[6:9])\n",
    "        yield(y[9:])\n",
    "        \n",
    "z = three()\n",
    "\n"
   ]
  },
  {
   "cell_type": "code",
   "execution_count": 13,
   "id": "5419063f",
   "metadata": {},
   "outputs": [
    {
     "data": {
      "text/plain": [
       "[1, 2, 3]"
      ]
     },
     "execution_count": 13,
     "metadata": {},
     "output_type": "execute_result"
    }
   ],
   "source": [
    "next(z)"
   ]
  },
  {
   "cell_type": "code",
   "execution_count": 14,
   "id": "9c2bb6fc",
   "metadata": {},
   "outputs": [
    {
     "data": {
      "text/plain": [
       "[4, 5, 6]"
      ]
     },
     "execution_count": 14,
     "metadata": {},
     "output_type": "execute_result"
    }
   ],
   "source": [
    "next(z)"
   ]
  },
  {
   "cell_type": "code",
   "execution_count": 15,
   "id": "de9de779",
   "metadata": {},
   "outputs": [
    {
     "data": {
      "text/plain": [
       "[7, 8, 9]"
      ]
     },
     "execution_count": 15,
     "metadata": {},
     "output_type": "execute_result"
    }
   ],
   "source": [
    "next(z)"
   ]
  },
  {
   "cell_type": "code",
   "execution_count": 16,
   "id": "94cacd00",
   "metadata": {},
   "outputs": [
    {
     "data": {
      "text/plain": [
       "[10]"
      ]
     },
     "execution_count": 16,
     "metadata": {},
     "output_type": "execute_result"
    }
   ],
   "source": [
    "next(z)"
   ]
  },
  {
   "cell_type": "code",
   "execution_count": 10,
   "id": "6344cc9d",
   "metadata": {},
   "outputs": [],
   "source": [
    "def three():\n",
    "    y = [1,2,3,4,5,6,7,8,9,10]\n",
    "    a = 0\n",
    "    while a < len(y):  \n",
    "        if a%3 == 0:\n",
    "            yield y\n",
    "        \n",
    "z = three()"
   ]
  },
  {
   "cell_type": "code",
   "execution_count": null,
   "id": "c5d311ee",
   "metadata": {},
   "outputs": [],
   "source": [
    "next(z)"
   ]
  }
 ],
 "metadata": {
  "kernelspec": {
   "display_name": "Python 3 (ipykernel)",
   "language": "python",
   "name": "python3"
  },
  "language_info": {
   "codemirror_mode": {
    "name": "ipython",
    "version": 3
   },
   "file_extension": ".py",
   "mimetype": "text/x-python",
   "name": "python",
   "nbconvert_exporter": "python",
   "pygments_lexer": "ipython3",
   "version": "3.9.13"
  }
 },
 "nbformat": 4,
 "nbformat_minor": 5
}
