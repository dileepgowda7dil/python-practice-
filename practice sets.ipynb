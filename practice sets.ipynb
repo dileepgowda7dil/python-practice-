{
 "cells": [
  {
   "cell_type": "code",
   "execution_count": 6,
   "id": "51e03a63",
   "metadata": {},
   "outputs": [
    {
     "name": "stdout",
     "output_type": "stream",
     "text": [
      "{2, 'a', 4, 5, 6, 8, 'b', 45, 78, 'c', 57}\n"
     ]
    }
   ],
   "source": [
    "numbers = ['a','b','c',5,4,2,4,8,6,45,78,57]\n",
    "uniques = set(numbers) # set constructor\n",
    "print(uniques)"
   ]
  },
  {
   "cell_type": "code",
   "execution_count": 4,
   "id": "9cb61e24",
   "metadata": {},
   "outputs": [
    {
     "name": "stdout",
     "output_type": "stream",
     "text": [
      "{65, 2, 4, 54, 87, 8, 45}\n"
     ]
    }
   ],
   "source": [
    "second = {2,5,4,8,45,54,65}\n",
    "second.add(87)\n",
    "second.remove(5)\n",
    "print(second)"
   ]
  },
  {
   "cell_type": "code",
   "execution_count": 8,
   "id": "45f5cb07",
   "metadata": {},
   "outputs": [
    {
     "name": "stdout",
     "output_type": "stream",
     "text": [
      "{65, 2, 'a', 4, 5, 6, 8, 'b', 45, 78, 'c', 54, 87, 57}\n"
     ]
    }
   ],
   "source": [
    "print(uniques|second) #union"
   ]
  },
  {
   "cell_type": "code",
   "execution_count": 9,
   "id": "c9aec7b4",
   "metadata": {},
   "outputs": [
    {
     "name": "stdout",
     "output_type": "stream",
     "text": [
      "{8, 2, 4, 45}\n"
     ]
    }
   ],
   "source": [
    "print(uniques&second) #intersection"
   ]
  },
  {
   "cell_type": "code",
   "execution_count": 10,
   "id": "e4339702",
   "metadata": {},
   "outputs": [
    {
     "name": "stdout",
     "output_type": "stream",
     "text": [
      "{'a', 5, 6, 'b', 78, 'c', 57}\n"
     ]
    }
   ],
   "source": [
    "print(uniques-second) #differece"
   ]
  },
  {
   "cell_type": "code",
   "execution_count": 11,
   "id": "87aa4a4e",
   "metadata": {},
   "outputs": [
    {
     "name": "stdout",
     "output_type": "stream",
     "text": [
      "{65, 'a', 5, 6, 'b', 78, 'c', 54, 87, 57}\n"
     ]
    }
   ],
   "source": [
    "print(uniques^second) #sematric difference"
   ]
  },
  {
   "cell_type": "code",
   "execution_count": 12,
   "id": "db3732c9",
   "metadata": {},
   "outputs": [
    {
     "name": "stdout",
     "output_type": "stream",
     "text": [
      "yes\n"
     ]
    }
   ],
   "source": [
    "if 4 in uniques:\n",
    "    print('yes')"
   ]
  },
  {
   "cell_type": "code",
   "execution_count": 15,
   "id": "f5d842c6",
   "metadata": {},
   "outputs": [
    {
     "name": "stdout",
     "output_type": "stream",
     "text": [
      "{}\n"
     ]
    }
   ],
   "source": [
    "s1 = {} #empty dictionary\n",
    "s2 = set() # empty set\n",
    "print(s1)"
   ]
  },
  {
   "cell_type": "code",
   "execution_count": 16,
   "id": "bb6c44e8",
   "metadata": {},
   "outputs": [
    {
     "name": "stdout",
     "output_type": "stream",
     "text": [
      "{6}\n"
     ]
    }
   ],
   "source": [
    "s2.add(6)\n",
    "print(s2)"
   ]
  },
  {
   "cell_type": "code",
   "execution_count": 17,
   "id": "9f04f846",
   "metadata": {},
   "outputs": [
    {
     "name": "stdout",
     "output_type": "stream",
     "text": [
      "{8, 5, 6, 7}\n"
     ]
    }
   ],
   "source": [
    "s2.update({5,7,8,5})\n",
    "print(s2)"
   ]
  },
  {
   "cell_type": "code",
   "execution_count": 19,
   "id": "289d5403",
   "metadata": {},
   "outputs": [
    {
     "name": "stdout",
     "output_type": "stream",
     "text": [
      "{5, 6, 7, 8, 15, 754, 84}\n"
     ]
    }
   ],
   "source": [
    "s2.update([15,754,84,5])\n",
    "print(s2)"
   ]
  },
  {
   "cell_type": "code",
   "execution_count": 20,
   "id": "a520c3b8",
   "metadata": {},
   "outputs": [
    {
     "name": "stdout",
     "output_type": "stream",
     "text": [
      "{5, 6, 7, 8, 15, 84}\n"
     ]
    }
   ],
   "source": [
    "s2.remove(754)\n",
    "print(s2)"
   ]
  },
  {
   "cell_type": "code",
   "execution_count": 21,
   "id": "837ad240",
   "metadata": {},
   "outputs": [
    {
     "name": "stdout",
     "output_type": "stream",
     "text": [
      "{5, 6, 7, 8, 15, 84}\n"
     ]
    }
   ],
   "source": [
    "s2.discard(754)\n",
    "print(s2)"
   ]
  },
  {
   "cell_type": "code",
   "execution_count": 22,
   "id": "b647d152",
   "metadata": {},
   "outputs": [
    {
     "ename": "KeyError",
     "evalue": "754",
     "output_type": "error",
     "traceback": [
      "\u001b[1;31m---------------------------------------------------------------------------\u001b[0m",
      "\u001b[1;31mKeyError\u001b[0m                                  Traceback (most recent call last)",
      "\u001b[1;32m~\\AppData\\Local\\Temp\\ipykernel_536\\65771392.py\u001b[0m in \u001b[0;36m<module>\u001b[1;34m\u001b[0m\n\u001b[1;32m----> 1\u001b[1;33m \u001b[0ms2\u001b[0m\u001b[1;33m.\u001b[0m\u001b[0mremove\u001b[0m\u001b[1;33m(\u001b[0m\u001b[1;36m754\u001b[0m\u001b[1;33m)\u001b[0m\u001b[1;33m\u001b[0m\u001b[1;33m\u001b[0m\u001b[0m\n\u001b[0m\u001b[0;32m      2\u001b[0m \u001b[0mprint\u001b[0m\u001b[1;33m(\u001b[0m\u001b[0ms2\u001b[0m\u001b[1;33m)\u001b[0m\u001b[1;33m\u001b[0m\u001b[1;33m\u001b[0m\u001b[0m\n",
      "\u001b[1;31mKeyError\u001b[0m: 754"
     ]
    }
   ],
   "source": [
    "s2.remove(754)\n",
    "print(s2)"
   ]
  },
  {
   "cell_type": "code",
   "execution_count": 23,
   "id": "e71428ed",
   "metadata": {},
   "outputs": [
    {
     "name": "stdout",
     "output_type": "stream",
     "text": [
      "{8, 5}\n"
     ]
    }
   ],
   "source": [
    "s4 ={2,5,4,8,45,54,65}\n",
    "s3 = s2.intersection(s4)\n",
    "print(s3)"
   ]
  },
  {
   "cell_type": "code",
   "execution_count": 24,
   "id": "fcf5ecf7",
   "metadata": {},
   "outputs": [
    {
     "name": "stdout",
     "output_type": "stream",
     "text": [
      "{65, 2, 4, 5, 6, 7, 8, 45, 15, 84, 54}\n"
     ]
    }
   ],
   "source": [
    "print(s4.union(s2))"
   ]
  },
  {
   "cell_type": "code",
   "execution_count": 25,
   "id": "5870799a",
   "metadata": {},
   "outputs": [
    {
     "name": "stdout",
     "output_type": "stream",
     "text": [
      "{65, 2, 4, 45, 54}\n"
     ]
    }
   ],
   "source": [
    "print(s4.difference(s2))"
   ]
  },
  {
   "cell_type": "code",
   "execution_count": 28,
   "id": "d4e03559",
   "metadata": {},
   "outputs": [
    {
     "name": "stdout",
     "output_type": "stream",
     "text": [
      "{8, 5}\n"
     ]
    }
   ],
   "source": [
    "s3 = s2.intersection(s4, uniques)\n",
    "print(s3)"
   ]
  },
  {
   "cell_type": "code",
   "execution_count": 29,
   "id": "3fa851ca",
   "metadata": {},
   "outputs": [
    {
     "name": "stdout",
     "output_type": "stream",
     "text": [
      "{65, 2, 'a', 4, 5, 6, 7, 8, 78, 15, 84, 'b', 45, 'c', 54, 57}\n"
     ]
    }
   ],
   "source": [
    "print(s4.union(s2,uniques))"
   ]
  },
  {
   "cell_type": "code",
   "execution_count": 34,
   "id": "0ce2aa65",
   "metadata": {},
   "outputs": [
    {
     "name": "stdout",
     "output_type": "stream",
     "text": [
      "{65, 2, 4, 6, 7, 15, 84, 45, 54}\n"
     ]
    }
   ],
   "source": [
    "print(s4.symmetric_difference(s2)) # unique elements from both the sets"
   ]
  },
  {
   "cell_type": "code",
   "execution_count": 36,
   "id": "6a906286",
   "metadata": {},
   "outputs": [
    {
     "name": "stdout",
     "output_type": "stream",
     "text": [
      "[1, 2, 3, 1, 2, 3]\n"
     ]
    }
   ],
   "source": [
    "l1 = [1,2,3,1,2,3]\n",
    "l2 = list(set(l1))\n",
    "print(l1)"
   ]
  },
  {
   "cell_type": "code",
   "execution_count": 40,
   "id": "f74f1533",
   "metadata": {},
   "outputs": [
    {
     "name": "stdout",
     "output_type": "stream",
     "text": [
      "{1, 2, 3}\n"
     ]
    }
   ],
   "source": [
    "l1 = {1,2,3,1,2,3}\n",
    "l3 = {'a','b','c','d','e',1,2,3,4,98,87,76,65,54,43,32,21,10}\n",
    "result = l1.intersection(l3)\n",
    "print(result)"
   ]
  },
  {
   "cell_type": "code",
   "execution_count": 41,
   "id": "68311d62",
   "metadata": {},
   "outputs": [
    {
     "name": "stdout",
     "output_type": "stream",
     "text": [
      "set()\n"
     ]
    }
   ],
   "source": [
    "result = l1.difference(l3)\n",
    "print(result)"
   ]
  },
  {
   "cell_type": "code",
   "execution_count": 42,
   "id": "84179dbb",
   "metadata": {},
   "outputs": [
    {
     "name": "stdout",
     "output_type": "stream",
     "text": [
      "{'d', 'a', 4, 65, 10, 76, 21, 87, 32, 98, 'e', 'b', 43, 'c', 54}\n"
     ]
    }
   ],
   "source": [
    "result = l1.symmetric_difference(l3)\n",
    "print(result)"
   ]
  },
  {
   "cell_type": "code",
   "execution_count": 43,
   "id": "72598e53",
   "metadata": {},
   "outputs": [
    {
     "name": "stdout",
     "output_type": "stream",
     "text": [
      "found\n"
     ]
    }
   ],
   "source": [
    "if 'd' and 'a' and 4 in l3:\n",
    "    print('found')"
   ]
  },
  {
   "cell_type": "code",
   "execution_count": null,
   "id": "d29bf7e8",
   "metadata": {},
   "outputs": [],
   "source": [
    "#O(n) for a list\n",
    "#O(1) for a set"
   ]
  },
  {
   "cell_type": "code",
   "execution_count": 45,
   "id": "bd308207",
   "metadata": {},
   "outputs": [
    {
     "name": "stdout",
     "output_type": "stream",
     "text": [
      "frozenset({32, 65, 4, 6, 45, 78, 87})\n"
     ]
    }
   ],
   "source": [
    "s5 = frozenset([45,78,45,65,87,32,4,65,65,6,45])\n",
    "print(s5)"
   ]
  },
  {
   "cell_type": "code",
   "execution_count": 50,
   "id": "27f0627f",
   "metadata": {},
   "outputs": [
    {
     "data": {
      "text/plain": [
       "frozenset({6, 45, 78})"
      ]
     },
     "execution_count": 50,
     "metadata": {},
     "output_type": "execute_result"
    }
   ],
   "source": [
    "s5.difference(l3)"
   ]
  },
  {
   "cell_type": "code",
   "execution_count": 51,
   "id": "05152491",
   "metadata": {},
   "outputs": [
    {
     "data": {
      "text/plain": [
       "frozenset({1,\n",
       "           10,\n",
       "           2,\n",
       "           21,\n",
       "           3,\n",
       "           43,\n",
       "           45,\n",
       "           54,\n",
       "           6,\n",
       "           76,\n",
       "           78,\n",
       "           98,\n",
       "           'a',\n",
       "           'b',\n",
       "           'c',\n",
       "           'd',\n",
       "           'e'})"
      ]
     },
     "execution_count": 51,
     "metadata": {},
     "output_type": "execute_result"
    }
   ],
   "source": [
    "s5.symmetric_difference(l3)"
   ]
  },
  {
   "cell_type": "code",
   "execution_count": 53,
   "id": "f00725d3",
   "metadata": {},
   "outputs": [
    {
     "data": {
      "text/plain": [
       "frozenset({1,\n",
       "           10,\n",
       "           2,\n",
       "           21,\n",
       "           3,\n",
       "           32,\n",
       "           4,\n",
       "           43,\n",
       "           45,\n",
       "           54,\n",
       "           6,\n",
       "           65,\n",
       "           76,\n",
       "           78,\n",
       "           87,\n",
       "           98,\n",
       "           'a',\n",
       "           'b',\n",
       "           'c',\n",
       "           'd',\n",
       "           'e'})"
      ]
     },
     "execution_count": 53,
     "metadata": {},
     "output_type": "execute_result"
    }
   ],
   "source": [
    "s5.union(l3)"
   ]
  },
  {
   "cell_type": "code",
   "execution_count": 54,
   "id": "c01ef23d",
   "metadata": {},
   "outputs": [
    {
     "name": "stdout",
     "output_type": "stream",
     "text": [
      "frozenset({'c', 'b', 'a'})\n"
     ]
    }
   ],
   "source": [
    "d = {'a':1, 'b':2, 'c':3}\n",
    "x = frozenset(d)\n",
    "print(x)"
   ]
  },
  {
   "cell_type": "code",
   "execution_count": 55,
   "id": "078e1b2f",
   "metadata": {},
   "outputs": [
    {
     "name": "stdout",
     "output_type": "stream",
     "text": [
      "frozenset({32, 65, 'a', 4, 6, 'b', 45, 78, 'c', 87})\n"
     ]
    }
   ],
   "source": [
    "print(s5|x)"
   ]
  },
  {
   "cell_type": "code",
   "execution_count": 58,
   "id": "5b9ec05f",
   "metadata": {},
   "outputs": [
    {
     "name": "stdout",
     "output_type": "stream",
     "text": [
      "False\n"
     ]
    }
   ],
   "source": [
    "print(l1.isdisjoint(l3))"
   ]
  },
  {
   "cell_type": "code",
   "execution_count": null,
   "id": "aa3374a9",
   "metadata": {},
   "outputs": [],
   "source": []
  }
 ],
 "metadata": {
  "kernelspec": {
   "display_name": "Python 3 (ipykernel)",
   "language": "python",
   "name": "python3"
  },
  "language_info": {
   "codemirror_mode": {
    "name": "ipython",
    "version": 3
   },
   "file_extension": ".py",
   "mimetype": "text/x-python",
   "name": "python",
   "nbconvert_exporter": "python",
   "pygments_lexer": "ipython3",
   "version": "3.9.13"
  }
 },
 "nbformat": 4,
 "nbformat_minor": 5
}
