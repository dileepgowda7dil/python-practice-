{
 "cells": [
  {
   "cell_type": "code",
   "execution_count": 1,
   "id": "a00e33f4",
   "metadata": {},
   "outputs": [
    {
     "name": "stdout",
     "output_type": "stream",
     "text": [
      "january\n",
      "1 2 3 4 5 6 7 8 9 10 11 12 1 14 15 16 17 18 19 20 21 22 2 24 25 26 27 28 29 30 31 \n",
      "february\n",
      "1 2 3 4 5 6 7 8 9 10 11 12 1 14 15 16 17 18 19 20 21 22 2 24 25 26 27 28 \n",
      "march\n",
      "1 2 3 4 5 6 7 8 9 10 11 12 1 14 15 16 17 18 19 20 21 22 2 24 25 26 27 28 29 30 31 \n",
      "april\n",
      "1 2 3 4 5 6 7 8 9 10 11 12 1 14 15 16 17 18 19 20 21 22 2 24 25 26 27 28 29 30 \n",
      "may\n",
      "1 2 3 4 5 6 7 8 9 10 11 12 1 14 15 16 17 18 19 20 21 22 2 24 25 26 27 28 29 30 31 \n",
      "june\n",
      "1 2 3 4 5 6 7 8 9 10 11 12 1 14 15 16 17 18 19 20 21 22 2 24 25 26 27 28 29 30 \n",
      "july\n",
      "1 2 3 4 5 6 7 8 9 10 11 12 1 14 15 16 17 18 19 20 21 22 2 24 25 26 27 28 29 30 31 \n",
      "august\n",
      "1 2 3 4 5 6 7 8 9 10 11 12 1 14 15 16 17 18 19 20 21 22 2 24 25 26 27 28 29 30 31 \n",
      "september\n",
      "1 2 3 4 5 6 7 8 9 10 11 12 1 14 15 16 17 18 19 20 21 22 2 24 25 26 27 28 29 30 \n",
      "october\n",
      "1 2 3 4 5 6 7 8 9 10 11 12 1 14 15 16 17 18 19 20 21 22 2 24 25 26 27 28 29 30 31 \n",
      "november\n",
      "1 2 3 4 5 6 7 8 9 10 11 12 1 14 15 16 17 18 19 20 21 22 2 24 25 26 27 28 29 30 \n",
      "december\n",
      "1 2 3 4 5 6 7 8 9 10 11 12 1 14 15 16 17 18 19 20 21 22 2 24 25 26 27 28 29 30 31 \n"
     ]
    }
   ],
   "source": [
    "# calendar program\n",
    "months = ['january', 'february', 'march', 'april', 'may', 'june', 'july', 'august', 'september', 'october', 'november', 'december']\n",
    "days = (1,2,3,4,5,6,7,8,9,10,11,12,1,14,15,16,17,18,19,20,21,22,2,24,25,26,27,28,29,30,31)\n",
    "for i in months:\n",
    "    if i in ['january', 'march', 'may', 'july', 'august', 'october', 'december']:\n",
    "        print(i)\n",
    "        for q in days:\n",
    "            print(q, end=' ')\n",
    "        print()\n",
    "    elif i == 'february':\n",
    "        print(i)\n",
    "        for j in days:\n",
    "            if j > 28:\n",
    "                pass\n",
    "            else:\n",
    "                print(j, end=' ')\n",
    "        print()\n",
    "    elif i in ['april', 'june', 'september', 'november']:\n",
    "        print(i)\n",
    "        for k in days:\n",
    "            if k > 30:\n",
    "                pass\n",
    "            else:\n",
    "                print(k, end=' ')\n",
    "        print()"
   ]
  }
 ],
 "metadata": {
  "kernelspec": {
   "display_name": "Python 3 (ipykernel)",
   "language": "python",
   "name": "python3"
  },
  "language_info": {
   "codemirror_mode": {
    "name": "ipython",
    "version": 3
   },
   "file_extension": ".py",
   "mimetype": "text/x-python",
   "name": "python",
   "nbconvert_exporter": "python",
   "pygments_lexer": "ipython3",
   "version": "3.9.13"
  }
 },
 "nbformat": 4,
 "nbformat_minor": 5
}
