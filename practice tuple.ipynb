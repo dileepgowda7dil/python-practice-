{
 "cells": [
  {
   "cell_type": "code",
   "execution_count": 5,
   "id": "e38c58c8",
   "metadata": {},
   "outputs": [
    {
     "name": "stdout",
     "output_type": "stream",
     "text": [
      "<class 'tuple'>\n"
     ]
    }
   ],
   "source": [
    "myCars = ('ford', 'mercedes', 'audi')\n",
    "print(type(myCars))"
   ]
  },
  {
   "cell_type": "code",
   "execution_count": 8,
   "id": "9bdd3476",
   "metadata": {},
   "outputs": [
    {
     "name": "stdout",
     "output_type": "stream",
     "text": [
      "ford\n"
     ]
    }
   ],
   "source": [
    "# tuple is unchangeble\n",
    "print(myCars[0])"
   ]
  },
  {
   "cell_type": "code",
   "execution_count": 9,
   "id": "687e9751",
   "metadata": {},
   "outputs": [
    {
     "name": "stdout",
     "output_type": "stream",
     "text": [
      "3\n"
     ]
    }
   ],
   "source": [
    "print(len(myCars))"
   ]
  },
  {
   "cell_type": "code",
   "execution_count": 10,
   "id": "a742d087",
   "metadata": {},
   "outputs": [],
   "source": [
    "del myCars"
   ]
  },
  {
   "cell_type": "code",
   "execution_count": 12,
   "id": "aa68bd5b",
   "metadata": {},
   "outputs": [
    {
     "name": "stdout",
     "output_type": "stream",
     "text": [
      "3\n"
     ]
    }
   ],
   "source": [
    "myCars = ('ford', 'mercedes', 'audi')\n",
    "print(len(myCars))"
   ]
  },
  {
   "cell_type": "code",
   "execution_count": 15,
   "id": "610a3059",
   "metadata": {},
   "outputs": [
    {
     "name": "stdout",
     "output_type": "stream",
     "text": [
      "['ford', 'mercedes', 'audi']\n"
     ]
    }
   ],
   "source": [
    "mycarstemp = list(myCars)\n",
    "print(mycarstemp)"
   ]
  },
  {
   "cell_type": "code",
   "execution_count": 16,
   "id": "f9319562",
   "metadata": {},
   "outputs": [
    {
     "name": "stdout",
     "output_type": "stream",
     "text": [
      "('ford', 'mercedes', 'audi')\n"
     ]
    }
   ],
   "source": [
    "myCars = tuple(mycarstemp)\n",
    "print(myCars)"
   ]
  },
  {
   "cell_type": "code",
   "execution_count": 17,
   "id": "2a85f3c7",
   "metadata": {},
   "outputs": [
    {
     "name": "stdout",
     "output_type": "stream",
     "text": [
      "['ford', 'titanium', 'audi']\n"
     ]
    }
   ],
   "source": [
    "mycarstemp = list(myCars)\n",
    "mycarstemp[1] = 'titanium'\n",
    "print(mycarstemp)"
   ]
  },
  {
   "cell_type": "code",
   "execution_count": 21,
   "id": "ecee071f",
   "metadata": {},
   "outputs": [
    {
     "name": "stdout",
     "output_type": "stream",
     "text": [
      "('ford', 'audi')\n"
     ]
    }
   ],
   "source": [
    "print(myCars[::2])"
   ]
  },
  {
   "cell_type": "code",
   "execution_count": 22,
   "id": "253caa1a",
   "metadata": {},
   "outputs": [
    {
     "name": "stdout",
     "output_type": "stream",
     "text": [
      "('ford', 'mercedes', 'audi')\n"
     ]
    }
   ],
   "source": [
    "print(myCars[::])"
   ]
  },
  {
   "cell_type": "code",
   "execution_count": 23,
   "id": "2132071f",
   "metadata": {},
   "outputs": [
    {
     "name": "stdout",
     "output_type": "stream",
     "text": [
      "('mercedes', 'audi')\n"
     ]
    }
   ],
   "source": [
    "print(myCars[1:])"
   ]
  },
  {
   "cell_type": "code",
   "execution_count": 24,
   "id": "5eb159c5",
   "metadata": {},
   "outputs": [
    {
     "name": "stdout",
     "output_type": "stream",
     "text": [
      "('ford',)\n"
     ]
    }
   ],
   "source": [
    "print(myCars[:1])"
   ]
  },
  {
   "cell_type": "code",
   "execution_count": 25,
   "id": "6b4f62a2",
   "metadata": {},
   "outputs": [
    {
     "name": "stdout",
     "output_type": "stream",
     "text": [
      "ford\n",
      "mercedes\n",
      "audi\n"
     ]
    }
   ],
   "source": [
    "for i in myCars:\n",
    "    print(i)"
   ]
  },
  {
   "cell_type": "code",
   "execution_count": 26,
   "id": "407f6c07",
   "metadata": {},
   "outputs": [
    {
     "name": "stdout",
     "output_type": "stream",
     "text": [
      "(0, 'ford')\n",
      "(1, 'mercedes')\n",
      "(2, 'audi')\n"
     ]
    }
   ],
   "source": [
    "for i in enumerate(myCars):\n",
    "    print(i)"
   ]
  },
  {
   "cell_type": "code",
   "execution_count": 27,
   "id": "9f1a0c2b",
   "metadata": {},
   "outputs": [],
   "source": [
    "if 'brezza' in myCars:\n",
    "    print('true')"
   ]
  },
  {
   "cell_type": "code",
   "execution_count": 28,
   "id": "bea84012",
   "metadata": {},
   "outputs": [
    {
     "name": "stdout",
     "output_type": "stream",
     "text": [
      "true\n"
     ]
    }
   ],
   "source": [
    "if 'mercedes' in myCars:\n",
    "    print('true')"
   ]
  },
  {
   "cell_type": "code",
   "execution_count": 29,
   "id": "d05ee08a",
   "metadata": {},
   "outputs": [
    {
     "data": {
      "text/plain": [
       "1"
      ]
     },
     "execution_count": 29,
     "metadata": {},
     "output_type": "execute_result"
    }
   ],
   "source": [
    "myCars.index('mercedes')"
   ]
  },
  {
   "cell_type": "code",
   "execution_count": 30,
   "id": "fae8f309",
   "metadata": {},
   "outputs": [
    {
     "name": "stdout",
     "output_type": "stream",
     "text": [
      "ford\n",
      "mercedes\n",
      "audi\n"
     ]
    }
   ],
   "source": [
    "x,y,z = myCars\n",
    "print(x)\n",
    "print(y)\n",
    "print(z)"
   ]
  },
  {
   "cell_type": "code",
   "execution_count": 33,
   "id": "86600674",
   "metadata": {},
   "outputs": [
    {
     "name": "stdout",
     "output_type": "stream",
     "text": [
      "('ford', 'mercedes', 'audi', 'ford', 'mercedes', 'audi', 'ford', 'mercedes', 'audi')\n"
     ]
    }
   ],
   "source": [
    "a = myCars*3\n",
    "print(a)"
   ]
  },
  {
   "cell_type": "code",
   "execution_count": null,
   "id": "c7e04ad7",
   "metadata": {},
   "outputs": [],
   "source": []
  }
 ],
 "metadata": {
  "kernelspec": {
   "display_name": "Python 3 (ipykernel)",
   "language": "python",
   "name": "python3"
  },
  "language_info": {
   "codemirror_mode": {
    "name": "ipython",
    "version": 3
   },
   "file_extension": ".py",
   "mimetype": "text/x-python",
   "name": "python",
   "nbconvert_exporter": "python",
   "pygments_lexer": "ipython3",
   "version": "3.9.13"
  }
 },
 "nbformat": 4,
 "nbformat_minor": 5
}
